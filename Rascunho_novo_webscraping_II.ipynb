{
 "cells": [
  {
   "cell_type": "code",
   "execution_count": 129,
   "metadata": {},
   "outputs": [],
   "source": [
    "import pandas as pd\n",
    "from bs4 import BeautifulSoup\n",
    "import requests\n",
    "import time\n",
    "import re"
   ]
  },
  {
   "cell_type": "code",
   "execution_count": 108,
   "metadata": {},
   "outputs": [],
   "source": [
    "# Quqantidade de paginas a serem raspadas\n",
    "paginas = 2"
   ]
  },
  {
   "cell_type": "code",
   "execution_count": 221,
   "metadata": {},
   "outputs": [
    {
     "name": "stdout",
     "output_type": "stream",
     "text": [
      "Pag Nº 1 Estou aqui: https://www.vivareal.com.br/venda/sp/sao-paulo/apartamento_residencial/?pagina=1#onde=Brasil,S%C3%A3o%20Paulo,S%C3%A3o%20Paulo,,,,,,BR%3ESao%20Paulo%3ENULL%3ESao%20Paulo,,,\n",
      "200\n",
      "Pag Nº 2 Estou aqui: https://www.vivareal.com.br/venda/sp/sao-paulo/apartamento_residencial/?pagina=2#onde=Brasil,S%C3%A3o%20Paulo,S%C3%A3o%20Paulo,,,,,,BR%3ESao%20Paulo%3ENULL%3ESao%20Paulo,,,\n",
      "200\n"
     ]
    },
    {
     "data": {
      "text/html": [
       "<div>\n",
       "<style scoped>\n",
       "    .dataframe tbody tr th:only-of-type {\n",
       "        vertical-align: middle;\n",
       "    }\n",
       "\n",
       "    .dataframe tbody tr th {\n",
       "        vertical-align: top;\n",
       "    }\n",
       "\n",
       "    .dataframe thead th {\n",
       "        text-align: right;\n",
       "    }\n",
       "</style>\n",
       "<table border=\"1\" class=\"dataframe\">\n",
       "  <thead>\n",
       "    <tr style=\"text-align: right;\">\n",
       "      <th></th>\n",
       "      <th>Serial_ID</th>\n",
       "      <th>Tipo</th>\n",
       "      <th>Tamanho_M²</th>\n",
       "    </tr>\n",
       "  </thead>\n",
       "  <tbody>\n",
       "    <tr>\n",
       "      <th>0</th>\n",
       "      <td>2692139059</td>\n",
       "      <td>Apartamento</td>\n",
       "      <td>37.0</td>\n",
       "    </tr>\n",
       "    <tr>\n",
       "      <th>1</th>\n",
       "      <td>2663131062</td>\n",
       "      <td>ix.Santana</td>\n",
       "      <td>Sem</td>\n",
       "    </tr>\n",
       "    <tr>\n",
       "      <th>2</th>\n",
       "      <td>2636710045</td>\n",
       "      <td>Apartamento</td>\n",
       "      <td>109.0</td>\n",
       "    </tr>\n",
       "    <tr>\n",
       "      <th>3</th>\n",
       "      <td>44521957</td>\n",
       "      <td>Apartamento</td>\n",
       "      <td>95.0</td>\n",
       "    </tr>\n",
       "    <tr>\n",
       "      <th>4</th>\n",
       "      <td>2684351146</td>\n",
       "      <td>Apartamento</td>\n",
       "      <td>62.0</td>\n",
       "    </tr>\n",
       "    <tr>\n",
       "      <th>...</th>\n",
       "      <td>...</td>\n",
       "      <td>...</td>\n",
       "      <td>...</td>\n",
       "    </tr>\n",
       "    <tr>\n",
       "      <th>60</th>\n",
       "      <td>2683123593</td>\n",
       "      <td>Apartamento</td>\n",
       "      <td>67.0</td>\n",
       "    </tr>\n",
       "    <tr>\n",
       "      <th>61</th>\n",
       "      <td>2691667082</td>\n",
       "      <td>Apartamento</td>\n",
       "      <td>109.0</td>\n",
       "    </tr>\n",
       "    <tr>\n",
       "      <th>62</th>\n",
       "      <td>2674274476</td>\n",
       "      <td>Apartamento</td>\n",
       "      <td>153.0</td>\n",
       "    </tr>\n",
       "    <tr>\n",
       "      <th>63</th>\n",
       "      <td>2682084997</td>\n",
       "      <td>Apartamento</td>\n",
       "      <td>151.0</td>\n",
       "    </tr>\n",
       "    <tr>\n",
       "      <th>64</th>\n",
       "      <td>2652251179</td>\n",
       "      <td>Apartamento</td>\n",
       "      <td>61.0</td>\n",
       "    </tr>\n",
       "  </tbody>\n",
       "</table>\n",
       "<p>65 rows × 3 columns</p>\n",
       "</div>"
      ],
      "text/plain": [
       "     Serial_ID         Tipo Tamanho_M²\n",
       "0   2692139059  Apartamento       37.0\n",
       "1   2663131062   ix.Santana        Sem\n",
       "2   2636710045  Apartamento      109.0\n",
       "3     44521957  Apartamento       95.0\n",
       "4   2684351146  Apartamento       62.0\n",
       "..         ...          ...        ...\n",
       "60  2683123593  Apartamento       67.0\n",
       "61  2691667082  Apartamento      109.0\n",
       "62  2674274476  Apartamento      153.0\n",
       "63  2682084997  Apartamento      151.0\n",
       "64  2652251179  Apartamento       61.0\n",
       "\n",
       "[65 rows x 3 columns]"
      ]
     },
     "metadata": {},
     "output_type": "display_data"
    }
   ],
   "source": [
    "# Contador de pagina\n",
    "cont= 0\n",
    "\n",
    "# Lista com os dados da raspagem\n",
    "fichas =[]\n",
    "\n",
    "# Endereço da pagina do site ( Primeira - Inicial )\n",
    "url=\"https://www.vivareal.com.br/venda/sp/sao-paulo/apartamento_residencial/?pagina={npagina}#onde=Brasil,S%C3%A3o%20Paulo,S%C3%A3o%20Paulo,,,,,,BR%3ESao%20Paulo%3ENULL%3ESao%20Paulo,,,\"\n",
    "\n",
    "# ID fake do browser \n",
    "headers={'User-Agent':\"Mozilla/5.0 (Windows NT 10.0; Win64; x64) AppleWebKit/537.36 (KHTML, like Gecko) Chrome/109.0.0.0 Safari/537.36\"}\n",
    "\n",
    "# Gerando um Looping para capturar a resposta da requisição das paginas\n",
    "for pagina in range(1,paginas+1):\n",
    "    cont += 1\n",
    "    print(f\"Pag Nº {cont} Estou aqui: \" + url.format(npagina=pagina))\n",
    "    \n",
    "    # Gerando um objeto para a sessão de requisição\n",
    "    session = requests.Session()\n",
    "    \n",
    "    # Autenticando ID Fake\n",
    "    session.headers.update(headers)\n",
    "    \n",
    "    # Gerando uma Requisição HTTP para uma resposta em HTML\n",
    "    response = session.get(url.format(npagina=pagina))\n",
    "    \n",
    "    # Visualizando o Status da Requisição\n",
    "    print(response.status_code)\n",
    "    # 200 Sucesso, 403 Requisição negada, 404 enderço url não encontrado\n",
    "    \n",
    "    # Reestruturando para facil manipulação e visualização\n",
    "    site_soup = BeautifulSoup(response.content, 'html.parser')\n",
    "    \n",
    "    # Raspando todos os cartões de anuncio da pagina\n",
    "    site_cartao = site_soup.find_all('div', class_= \"js-card-selector\")\n",
    "    \n",
    "    # Gerando um Looping para raspar os dados contidos em cada cartão de anuncio\n",
    "    for cartao_full  in site_cartao:\n",
    "        \n",
    "        # Criando uma lista com todos os dados raspados dos cartões de anuncio\n",
    "        tabela = {}   \n",
    "        \n",
    "        # Numero serial de identificação do anuncio \n",
    "        tabela['Serial_ID'] = int(str(cartao_full.parent.get('id')))\n",
    "        \n",
    "    # Craindo coluna Tipo de Imovel\n",
    "        try:\n",
    "            tabela['Tipo'] = str(cartao_full.find('h2', attrs={'class':'property-card__header'}).text.strip().split()[0])\n",
    "        except:\n",
    "            tabela['Tipo'] = 'Sem'\n",
    "        \n",
    "        # Gerando coluna  \n",
    "        try:\n",
    "            tabela['Tamanho_M²'] = float(str(cartao_full.find('ul', attrs={'class':\"property-card__details\"}).text.strip().split()[0]))\n",
    "        except:\n",
    "            tabela['Tamanho_M²'] = 'Sem'\n",
    "        \n",
    "        \n",
    "        \n",
    "        \n",
    "        \n",
    "        \n",
    "        \n",
    "        \n",
    "        \n",
    "        \n",
    "        \n",
    "        \n",
    "        \n",
    "        \n",
    "        if tabela not in fichas:\n",
    "            fichas.append(tabela)\n",
    "        \n",
    "        \n",
    "df_imov = pd.DataFrame(fichas, columns=tabela.keys()) \n",
    "\n",
    "      \n",
    "display(df_imov)"
   ]
  },
  {
   "cell_type": "code",
   "execution_count": 208,
   "metadata": {},
   "outputs": [
    {
     "data": {
      "text/plain": [
       "'2662583327'"
      ]
     },
     "execution_count": 208,
     "metadata": {},
     "output_type": "execute_result"
    }
   ],
   "source": [
    "cartao_full.parent.get('id')"
   ]
  },
  {
   "cell_type": "code",
   "execution_count": 209,
   "metadata": {},
   "outputs": [
    {
     "data": {
      "text/plain": [
       "'Apartamento'"
      ]
     },
     "execution_count": 209,
     "metadata": {},
     "output_type": "execute_result"
    }
   ],
   "source": [
    "cartao_full.find('h2', attrs={'class':'property-card__header'}).text.strip().split()[0]"
   ]
  },
  {
   "cell_type": "code",
   "execution_count": 204,
   "metadata": {},
   "outputs": [
    {
     "data": {
      "text/plain": [
       "'Apartamento'"
      ]
     },
     "execution_count": 204,
     "metadata": {},
     "output_type": "execute_result"
    }
   ],
   "source": [
    "cartao_full.find('h2', attrs={'class':'property-card__header'}).text.strip().split()[0]"
   ]
  },
  {
   "cell_type": "code",
   "execution_count": 203,
   "metadata": {},
   "outputs": [
    {
     "data": {
      "text/plain": [
       "'69'"
      ]
     },
     "execution_count": 203,
     "metadata": {},
     "output_type": "execute_result"
    }
   ],
   "source": [
    "cartao_full.find('ul', attrs={'class':\"property-card__details\"}).text.strip().split()[0]"
   ]
  },
  {
   "cell_type": "code",
   "execution_count": 206,
   "metadata": {},
   "outputs": [
    {
     "data": {
      "text/plain": [
       "'54'"
      ]
     },
     "execution_count": 206,
     "metadata": {},
     "output_type": "execute_result"
    }
   ],
   "source": [
    "# Tamanho em Metros Quadrados M²\n",
    "site_cartao[0].find('ul', attrs={'class':\"property-card__details\"}).text.strip().split()[0]"
   ]
  },
  {
   "cell_type": "code",
   "execution_count": null,
   "metadata": {},
   "outputs": [],
   "source": []
  }
 ],
 "metadata": {
  "kernelspec": {
   "display_name": "Python 3",
   "language": "python",
   "name": "python3"
  },
  "language_info": {
   "codemirror_mode": {
    "name": "ipython",
    "version": 3
   },
   "file_extension": ".py",
   "mimetype": "text/x-python",
   "name": "python",
   "nbconvert_exporter": "python",
   "pygments_lexer": "ipython3",
   "version": "3.10.11"
  }
 },
 "nbformat": 4,
 "nbformat_minor": 2
}
